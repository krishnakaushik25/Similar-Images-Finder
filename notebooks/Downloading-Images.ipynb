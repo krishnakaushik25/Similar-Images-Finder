{
 "cells": [
  {
   "cell_type": "code",
   "execution_count": 5,
   "metadata": {},
   "outputs": [],
   "source": [
    "#!pip3 install seaborn"
   ]
  },
  {
   "cell_type": "code",
   "execution_count": 1,
   "metadata": {},
   "outputs": [],
   "source": [
    "from IPython.core.display import HTML \n",
    "from IPython.display import Image\n",
    "import matplotlib.pyplot as plt\n",
    "import seaborn as sns \n",
    "import pandas as pd "
   ]
  },
  {
   "cell_type": "code",
   "execution_count": 2,
   "metadata": {},
   "outputs": [
    {
     "data": {
      "text/html": [
       "<div>\n",
       "<style scoped>\n",
       "    .dataframe tbody tr th:only-of-type {\n",
       "        vertical-align: middle;\n",
       "    }\n",
       "\n",
       "    .dataframe tbody tr th {\n",
       "        vertical-align: top;\n",
       "    }\n",
       "\n",
       "    .dataframe thead th {\n",
       "        text-align: right;\n",
       "    }\n",
       "</style>\n",
       "<table border=\"1\" class=\"dataframe\">\n",
       "  <thead>\n",
       "    <tr style=\"text-align: right;\">\n",
       "      <th></th>\n",
       "      <th>image_id</th>\n",
       "      <th>label_id</th>\n",
       "      <th>url</th>\n",
       "    </tr>\n",
       "  </thead>\n",
       "  <tbody>\n",
       "    <tr>\n",
       "      <th>0</th>\n",
       "      <td>1</td>\n",
       "      <td>5</td>\n",
       "      <td>https://img13.360buyimg.com/imgzone/jfs/t2857/...</td>\n",
       "    </tr>\n",
       "    <tr>\n",
       "      <th>1</th>\n",
       "      <td>2</td>\n",
       "      <td>5</td>\n",
       "      <td>http://www.tengdakeli.cn/350/timg01/uploaded/i...</td>\n",
       "    </tr>\n",
       "    <tr>\n",
       "      <th>2</th>\n",
       "      <td>3</td>\n",
       "      <td>5</td>\n",
       "      <td>https://img13.360buyimg.com/imgzone/jfs/t8899/...</td>\n",
       "    </tr>\n",
       "    <tr>\n",
       "      <th>3</th>\n",
       "      <td>4</td>\n",
       "      <td>5</td>\n",
       "      <td>http://img4.tbcdn.cn/tfscom/i1/2855447419/TB2S...</td>\n",
       "    </tr>\n",
       "    <tr>\n",
       "      <th>4</th>\n",
       "      <td>5</td>\n",
       "      <td>5</td>\n",
       "      <td>http://a.vpimg4.com/upload/merchandise/287883/...</td>\n",
       "    </tr>\n",
       "    <tr>\n",
       "      <th>5</th>\n",
       "      <td>6</td>\n",
       "      <td>5</td>\n",
       "      <td>https://img.alicdn.com/imgextra/TB1HoBuHFXXXXX...</td>\n",
       "    </tr>\n",
       "    <tr>\n",
       "      <th>6</th>\n",
       "      <td>7</td>\n",
       "      <td>5</td>\n",
       "      <td>http://image.it168.com/n/640x480/6/6016/601653...</td>\n",
       "    </tr>\n",
       "    <tr>\n",
       "      <th>7</th>\n",
       "      <td>8</td>\n",
       "      <td>5</td>\n",
       "      <td>http://m.360buyimg.com/n12/jfs/t2161/78/174772...</td>\n",
       "    </tr>\n",
       "    <tr>\n",
       "      <th>8</th>\n",
       "      <td>9</td>\n",
       "      <td>5</td>\n",
       "      <td>http://dimg.cnlist.org/image/upload/68/3f/c1/9...</td>\n",
       "    </tr>\n",
       "    <tr>\n",
       "      <th>9</th>\n",
       "      <td>10</td>\n",
       "      <td>5</td>\n",
       "      <td>http://bpic.588ku.com/element_pic/17/11/10/75e...</td>\n",
       "    </tr>\n",
       "  </tbody>\n",
       "</table>\n",
       "</div>"
      ],
      "text/plain": [
       "   image_id  label_id                                                url\n",
       "0         1         5  https://img13.360buyimg.com/imgzone/jfs/t2857/...\n",
       "1         2         5  http://www.tengdakeli.cn/350/timg01/uploaded/i...\n",
       "2         3         5  https://img13.360buyimg.com/imgzone/jfs/t8899/...\n",
       "3         4         5  http://img4.tbcdn.cn/tfscom/i1/2855447419/TB2S...\n",
       "4         5         5  http://a.vpimg4.com/upload/merchandise/287883/...\n",
       "5         6         5  https://img.alicdn.com/imgextra/TB1HoBuHFXXXXX...\n",
       "6         7         5  http://image.it168.com/n/640x480/6/6016/601653...\n",
       "7         8         5  http://m.360buyimg.com/n12/jfs/t2161/78/174772...\n",
       "8         9         5  http://dimg.cnlist.org/image/upload/68/3f/c1/9...\n",
       "9        10         5  http://bpic.588ku.com/element_pic/17/11/10/75e..."
      ]
     },
     "execution_count": 2,
     "metadata": {},
     "output_type": "execute_result"
    }
   ],
   "source": [
    "train = pd.read_json('./input/train.json')\n",
    "\n",
    "\n",
    "# function to format the dataset \n",
    "def format_dataset(df):\n",
    "    df['image_id'] = df.annotations.map(lambda x: x['image_id'])\n",
    "    df['label_id'] = df.annotations.map(lambda x: x['label_id'])\n",
    "    df['url'] = df.images.map(lambda x: x['url'][0])\n",
    "    df.drop(columns=['annotations', 'images'], inplace=True)\n",
    "\n",
    "format_dataset(train)\n",
    "\n",
    "# view the dataset snapshot\n",
    "train.head(10)"
   ]
  },
  {
   "cell_type": "code",
   "execution_count": 3,
   "metadata": {},
   "outputs": [
    {
     "name": "stderr",
     "output_type": "stream",
     "text": [
      "/home/poonam/.local/lib/python3.8/site-packages/seaborn/distributions.py:2557: FutureWarning: `distplot` is a deprecated function and will be removed in a future version. Please adapt your code to use either `displot` (a figure-level function with similar flexibility) or `histplot` (an axes-level function for histograms).\n",
      "  warnings.warn(msg, FutureWarning)\n"
     ]
    },
    {
     "data": {
      "image/png": "[encoded data removed]",
      "text/plain": [
       "<Figure size 1080x576 with 1 Axes>"
      ]
     },
     "metadata": {
      "needs_background": "light"
     },
     "output_type": "display_data"
    }
   ],
   "source": [
    "plt.figure(figsize = (15, 8))\n",
    "plt.title('Distribuition of different labels in the train dataset')\n",
    "sns.distplot(train['label_id'], color=\"red\", kde=False);"
   ]
  },
  {
   "cell_type": "code",
   "execution_count": 4,
   "metadata": {},
   "outputs": [],
   "source": [
    "label_df = train.label_id.value_counts().reset_index()"
   ]
  },
  {
   "cell_type": "code",
   "execution_count": 5,
   "metadata": {},
   "outputs": [
    {
     "data": {
      "text/html": [
       "<h3>Images related to Label: 20 (Total Images: 3996)</h3><br><img style='width: 180px; height:180px; margin: 0px; float: left; border: 1px solid #222;' src='https://img14.360buyimg.com/imgzone/jfs/t2320/137/487468866/439466/bb0f64ce/561208eaNe5fce09d.jpg' /><img style='width: 180px; height:180px; margin: 0px; float: left; border: 1px solid #222;' src='https://img.alicdn.com/imgextra/TB2T5NXXZrHK1JjSspfXXbsrXXa_!!2883544422.jpg' /><img style='width: 180px; height:180px; margin: 0px; float: left; border: 1px solid #222;' src='https://img.alicdn.com/imgextra/TB2Z6MdlmFjpuFjSszhXXaBuVXa_!!122480776.jpg' /><img style='width: 180px; height:180px; margin: 0px; float: left; border: 1px solid #222;' src='http://img001.hc360.cn/y1/M04/43/44/wKhQc1SxR0iEYPOJAAAAAEb2BFc516.jpg' /><br><br><br>"
      ],
      "text/plain": [
       "<IPython.core.display.HTML object>"
      ]
     },
     "metadata": {},
     "output_type": "display_data"
    },
    {
     "data": {
      "text/html": [
       "<h3>Images related to Label: 42 (Total Images: 3973)</h3><br><img style='width: 180px; height:180px; margin: 0px; float: left; border: 1px solid #222;' src='http://k.zol-img.com.cn/diybbs/6080/a6079920.jpg' /><img style='width: 180px; height:180px; margin: 0px; float: left; border: 1px solid #222;' src='https://img.alicdn.com/imgextra/TB2tchGtXXXXXaYXpXXXXXXXXXX_!!1069420075.jpg' /><img style='width: 180px; height:180px; margin: 0px; float: left; border: 1px solid #222;' src='https://img.alicdn.com/imgextra/TB2A5F5kJfJ8KJjy0FeXXXKEXXa_!!3170238810.jpg' /><img style='width: 180px; height:180px; margin: 0px; float: left; border: 1px solid #222;' src='http://pic.92to.com/365aw/201609/24/561f5dee97af6.jpg' /><br><br><br>"
      ],
      "text/plain": [
       "<IPython.core.display.HTML object>"
      ]
     },
     "metadata": {},
     "output_type": "display_data"
    },
    {
     "data": {
      "text/html": [
       "<h3>Images related to Label: 92 (Total Images: 2666)</h3><br><img style='width: 180px; height:180px; margin: 0px; float: left; border: 1px solid #222;' src='https://img.alicdn.com/imgextra/TB2VGxwd3vD8KJjy0FlXXagBFXa_!!2529740865.jpg' /><img style='width: 180px; height:180px; margin: 0px; float: left; border: 1px solid #222;' src='http://tgi1.jia.com/115/973/15973411.jpg' /><img style='width: 180px; height:180px; margin: 0px; float: left; border: 1px solid #222;' src='https://img12.360buyimg.com/imgzone/jfs/t7936/355/439137804/127898/35b471c3/5992a3a2N63c51428.jpg' /><img style='width: 180px; height:180px; margin: 0px; float: left; border: 1px solid #222;' src='http://p.zhuna.cn/uppic/temupload/14579/x_20120302201334315.jpg' /><br><br><br>"
      ],
      "text/plain": [
       "<IPython.core.display.HTML object>"
      ]
     },
     "metadata": {},
     "output_type": "display_data"
    },
    {
     "data": {
      "text/html": [
       "<h3>Images related to Label: 12 (Total Images: 2609)</h3><br><img style='width: 180px; height:180px; margin: 0px; float: left; border: 1px solid #222;' src='https://img11.360buyimg.com/imgzone/jfs/t5119/73/1946159194/182429/9e2c2f9e/591674d9N548522ca.jpg' /><img style='width: 180px; height:180px; margin: 0px; float: left; border: 1px solid #222;' src='http://img2.nuandaoimg.com/Public/images/uploads/product/20140530/5388222bbd2cf.jpg' /><img style='width: 180px; height:180px; margin: 0px; float: left; border: 1px solid #222;' src='https://img12.360buyimg.com/imgzone/jfs/t745/340/825685241/172361/5c659ff9/54f8fbc0N9ecf5ac3.jpg' /><img style='width: 180px; height:180px; margin: 0px; float: left; border: 1px solid #222;' src='https://img.alicdn.com/imgextra/TB2kcsib3fH8KJjy1zcXXcTzpXa_!!1068847237.jpg' /><br><br><br>"
      ],
      "text/plain": [
       "<IPython.core.display.HTML object>"
      ]
     },
     "metadata": {},
     "output_type": "display_data"
    },
    {
     "data": {
      "text/html": [
       "<h3>Images related to Label: 125 (Total Images: 2598)</h3><br><img style='width: 180px; height:180px; margin: 0px; float: left; border: 1px solid #222;' src='https://img13.360buyimg.com/imgzone/jfs/t3439/263/728869669/71540/eca6cade/5811bb8aN791655b1.jpg' /><img style='width: 180px; height:180px; margin: 0px; float: left; border: 1px solid #222;' src='http://image.pe168.com/37/29/372949507.jpg' /><img style='width: 180px; height:180px; margin: 0px; float: left; border: 1px solid #222;' src='https://img11.360buyimg.com/imgzone/jfs/t8095/350/775064757/749830/48f70235/59aed405Nd2068b37.jpg' /><img style='width: 180px; height:180px; margin: 0px; float: left; border: 1px solid #222;' src='http://imgsrc.baidu.com/imgad/pic/item/9f510fb30f2442a7ca09028fda43ad4bd1130290.jpg' /><br><br><br>"
      ],
      "text/plain": [
       "<IPython.core.display.HTML object>"
      ]
     },
     "metadata": {},
     "output_type": "display_data"
    },
    {
     "data": {
      "text/html": [
       "<h3>Images related to Label: 21 (Total Images: 2577)</h3><br><img style='width: 180px; height:180px; margin: 0px; float: left; border: 1px solid #222;' src='http://wx4.sinaimg.cn/mw690/006boOKDgy1fjggzqwijlj30j60j640w.jpg' /><img style='width: 180px; height:180px; margin: 0px; float: left; border: 1px solid #222;' src='http://static.house.sina.com.cn/jiancaijiaju/product_new/17/31/14302063471843210-1.jpg' /><img style='width: 180px; height:180px; margin: 0px; float: left; border: 1px solid #222;' src='https://img13.360buyimg.com/imgzone/jfs/t13636/75/2163334876/82882/fa9c3cc5/5a382324N4eac1e45.jpg' /><img style='width: 180px; height:180px; margin: 0px; float: left; border: 1px solid #222;' src='http://att2.citysbs.com/tiaozao/2017/04/06/12/3264x2448-121839_v2_16381491452319498_a4c184cf330a5853c70603fd79061a72.jpg' /><br><br><br>"
      ],
      "text/plain": [
       "<IPython.core.display.HTML object>"
      ]
     },
     "metadata": {},
     "output_type": "display_data"
    },
    {
     "data": {
      "text/html": [
       "<h3>Images related to Label: 122 (Total Images: 2462)</h3><br><img style='width: 180px; height:180px; margin: 0px; float: left; border: 1px solid #222;' src='https://static1.paizi.com/uploadfile/2017/1013/20171013053252466.jpg' /><img style='width: 180px; height:180px; margin: 0px; float: left; border: 1px solid #222;' src='http://image.guojj.com/exhibition/28/15/3c1c4defef8bf2cfc68f62bc5f5c20a3.jpg' /><img style='width: 180px; height:180px; margin: 0px; float: left; border: 1px solid #222;' src='https://img12.360buyimg.com/imgzone/jfs/t6724/85/1934896918/462676/1db1f35b/5959c359N4301c26d.jpg' /><img style='width: 180px; height:180px; margin: 0px; float: left; border: 1px solid #222;' src='https://gw.alicdn.com/bao/uploaded/i2/T1fNesFiJeXXXXXXXX_!!0-item_pic.jpg_460x460xz.jpg' /><br><br><br>"
      ],
      "text/plain": [
       "<IPython.core.display.HTML object>"
      ]
     },
     "metadata": {},
     "output_type": "display_data"
    },
    {
     "data": {
      "text/html": [
       "<h3>Images related to Label: 3 (Total Images: 2368)</h3><br><img style='width: 180px; height:180px; margin: 0px; float: left; border: 1px solid #222;' src='https://img.alicdn.com/imgextra/TB2T9B3Xg1J.eBjy0FaXXaXeVXa_!!1945434197.jpg' /><img style='width: 180px; height:180px; margin: 0px; float: left; border: 1px solid #222;' src='https://img.alicdn.com/imgextra/TB2t_5EkVXXXXb7XXXXXXXXXXXX_!!661894569.jpg' /><img style='width: 180px; height:180px; margin: 0px; float: left; border: 1px solid #222;' src='https://img13.360buyimg.com/imgzone/jfs/t5440/70/2300198880/84800/9af435d9/59196fedN6658bd63.jpg' /><img style='width: 180px; height:180px; margin: 0px; float: left; border: 1px solid #222;' src='https://img.alicdn.com/imgextra/TB2_ZUGbfOM.eBjSZFqXXculVXa_!!1100252939.jpg' /><br><br><br>"
      ],
      "text/plain": [
       "<IPython.core.display.HTML object>"
      ]
     },
     "metadata": {},
     "output_type": "display_data"
    },
    {
     "data": {
      "text/html": [
       "<h3>Images related to Label: 89 (Total Images: 2353)</h3><br><img style='width: 180px; height:180px; margin: 0px; float: left; border: 1px solid #222;' src='https://img14.360buyimg.com/imgzone/jfs/t175/247/2029997415/239022/6e87243d/53c0fa8eN843d8932.jpg' /><img style='width: 180px; height:180px; margin: 0px; float: left; border: 1px solid #222;' src='https://img14.360buyimg.com/imgzone/jfs/t2644/92/2282517029/423704/1d3654bb/576218e5N21f48d30.jpg' /><img style='width: 180px; height:180px; margin: 0px; float: left; border: 1px solid #222;' src='https://img11.360buyimg.com/imgzone/jfs/t3058/79/5158187990/97712/1a08ffce/5864bd20Na66ff893.jpg' /><img style='width: 180px; height:180px; margin: 0px; float: left; border: 1px solid #222;' src='http://www.szonwing.com/UploadFiles/FCK/2015-04/20150403FTLXN6HPT0.jpg' /><br><br><br>"
      ],
      "text/plain": [
       "<IPython.core.display.HTML object>"
      ]
     },
     "metadata": {},
     "output_type": "display_data"
    },
    {
     "data": {
      "text/html": [
       "<h3>Images related to Label: 93 (Total Images: 2350)</h3><br><img style='width: 180px; height:180px; margin: 0px; float: left; border: 1px solid #222;' src='http://www.bvh.cc/images/200912/goods_img/547_P_1260577161314.jpg' /><img style='width: 180px; height:180px; margin: 0px; float: left; border: 1px solid #222;' src='https://img13.360buyimg.com/imgzone/jfs/t3598/122/705099854/937165/837c972b/5811ae4dN06a9b194.jpg' /><img style='width: 180px; height:180px; margin: 0px; float: left; border: 1px solid #222;' src='http://f.3dxy.com/sub/Manual/pic/2016/0407/08/1604070812_17370_2000x_1.jpg' /><img style='width: 180px; height:180px; margin: 0px; float: left; border: 1px solid #222;' src='http://upload.qianhuaweb.com/2017/0531/1496211776708.jpg' /><br><br><br>"
      ],
      "text/plain": [
       "<IPython.core.display.HTML object>"
      ]
     },
     "metadata": {},
     "output_type": "display_data"
    },
    {
     "data": {
      "text/html": [
       "<h3>Images related to Label: 38 (Total Images: 2317)</h3><br><img style='width: 180px; height:180px; margin: 0px; float: left; border: 1px solid #222;' src='https://www.uooyoo.com/img2017/9/26/2017092663144657.jpg' /><img style='width: 180px; height:180px; margin: 0px; float: left; border: 1px solid #222;' src='https://img.alicdn.com/imgextra/TB2VUsNjvNNTKJjSspkXXaeWFXa_!!703468060.jpg' /><img style='width: 180px; height:180px; margin: 0px; float: left; border: 1px solid #222;' src='https://img13.360buyimg.com/imgzone/jfs/t2722/243/3701690876/560524/a6c2a8c3/5796f022N1a9f91fe.jpg' /><img style='width: 180px; height:180px; margin: 0px; float: left; border: 1px solid #222;' src='http://i2.hoopchina.com.cn/blogfile/201112/05/132308891766004.jpg' /><br><br><br>"
      ],
      "text/plain": [
       "<IPython.core.display.HTML object>"
      ]
     },
     "metadata": {},
     "output_type": "display_data"
    }
   ],
   "source": [
    "def display_urls(url_list, label, vals):\n",
    "    img_style = \"width: 180px; height:180px; margin: 0px; float: left; border: 1px solid #222;\"\n",
    "    images_list = ''.join([f\"<img style='{img_style}' src='{u}' />\" for _, u in url_list.iteritems()])\n",
    "    html = \"<h3>Images related to Label: \" + str(label) + \" (Total Images: \" + str(vals) + \")</h3><br>\" + images_list + \"<br><br><br>\"\n",
    "    display(HTML(html))\n",
    "\n",
    "val_list = list(label_df['label_id'])\n",
    "for i, label in enumerate(label_df['index']):    \n",
    "    url_list = train[train['label_id'] == int(label)].url.head(4)\n",
    "    display_urls(url_list, label, val_list[i])\n",
    "    if i == 10:\n",
    "        break"
   ]
  },
  {
   "cell_type": "code",
   "execution_count": 6,
   "metadata": {},
   "outputs": [],
   "source": [
    "## Let's say we want to do image search on Label no : 12( that is Table Lamp)"
   ]
  },
  {
   "cell_type": "code",
   "execution_count": 7,
   "metadata": {},
   "outputs": [],
   "source": [
    "## Downloading dataset first for label 12"
   ]
  },
  {
   "cell_type": "code",
   "execution_count": 8,
   "metadata": {},
   "outputs": [
    {
     "name": "stdout",
     "output_type": "stream",
     "text": [
      "       image_id  label_id                                                url\n",
      "94692     94693        12  https://img11.360buyimg.com/imgzone/jfs/t5119/...\n",
      "94693     94694        12  http://img2.nuandaoimg.com/Public/images/uploa...\n",
      "94694     94695        12  https://img12.360buyimg.com/imgzone/jfs/t745/3...\n",
      "94695     94696        12  https://img.alicdn.com/imgextra/TB2kcsib3fH8KJ...\n",
      "94696     94697        12  https://www.ikea.cn/cn/zh/images/products/bo-j...\n"
     ]
    }
   ],
   "source": [
    "train_12=train[train['label_id']==12]\n",
    "print(train_12.head())"
   ]
  },
  {
   "cell_type": "code",
   "execution_count": 9,
   "metadata": {},
   "outputs": [
    {
     "data": {
      "text/plain": [
       "'https://img11.360buyimg.com/imgzone/jfs/t5119/73/1946159194/182429/9e2c2f9e/591674d9N548522ca.jpg'"
      ]
     },
     "execution_count": 9,
     "metadata": {},
     "output_type": "execute_result"
    }
   ],
   "source": [
    "train_12['url'].values[0]"
   ]
  },
  {
   "cell_type": "code",
   "execution_count": 12,
   "metadata": {},
   "outputs": [],
   "source": [
    "import requests\n",
    "import uuid\n",
    "import os\n",
    "from tqdm import tqdm\n",
    "\n",
    "base_folder= './Data/12'\n",
    "def download_image(image_url):\n",
    "    fullpath=os.path.join(base_folder,str(uuid.uuid4())+'.jpg')\n",
    "    if not os.path.exists(fullpath):\n",
    "        try:\n",
    "            with open(fullpath, 'wb') as f:\n",
    "                f.write(requests.get(image_url,timeout=10).content)\n",
    "        except:\n",
    "            os.remove(fullpath)"
   ]
  },
  {
   "cell_type": "code",
   "execution_count": 13,
   "metadata": {},
   "outputs": [
    {
     "name": "stderr",
     "output_type": "stream",
     "text": [
      "100%|██████████| 2609/2609 [1:08:56<00:00,  1.59s/it]\n"
     ]
    }
   ],
   "source": [
    "for each_image_url in tqdm(train_12['url'].values):\n",
    "    try:\n",
    "        download_image(each_image_url)\n",
    "    except:\n",
    "        pass"
   ]
  },
  {
   "cell_type": "code",
   "execution_count": null,
   "metadata": {},
   "outputs": [],
   "source": []
  }
 ],
 "metadata": {
  "kernelspec": {
   "display_name": "Python 3",
   "language": "python",
   "name": "python3"
  },
  "language_info": {
   "codemirror_mode": {
    "name": "ipython",
    "version": 3
   },
   "file_extension": ".py",
   "mimetype": "text/x-python",
   "name": "python",
   "nbconvert_exporter": "python",
   "pygments_lexer": "ipython3",
   "version": "3.8.5"
  }
 },
 "nbformat": 4,
 "nbformat_minor": 4
}
