{
 "cells": [
  {
   "cell_type": "code",
   "execution_count": 15,
   "metadata": {},
   "outputs": [
    {
     "name": "stdout",
     "output_type": "stream",
     "text": [
      "Requirement already satisfied: google-cloud in /home/poonam/.local/lib/python3.8/site-packages (0.34.0)\n"
     ]
    }
   ],
   "source": [
    "import sys\n",
    "!{sys.executable} -m pip install google-cloud"
   ]
  },
  {
   "cell_type": "code",
   "execution_count": 36,
   "metadata": {},
   "outputs": [
    {
     "name": "stdout",
     "output_type": "stream",
     "text": [
      "WARNING:tensorflow:`input_shape` is undefined or non-square, or `rows` is not in [96, 128, 160, 192, 224]. Weights for input shape (224, 224) will be loaded as the default.\n",
      "WARNING:tensorflow:5 out of the last 5 calls to <function Model.make_predict_function.<locals>.predict_function at 0x7f8bc05a63a0> triggered tf.function retracing. Tracing is expensive and the excessive number of tracings could be due to (1) creating @tf.function repeatedly in a loop, (2) passing tensors with different shapes, (3) passing Python objects instead of tensors. For (1), please define your @tf.function outside of the loop. For (2), @tf.function has experimental_relax_shapes=True option that relaxes argument shapes that can avoid unnecessary retracing. For (3), please refer to https://www.tensorflow.org/guide/function#controlling_retracing and https://www.tensorflow.org/api_docs/python/tf/function for  more details.\n",
      "(1280,)\n"
     ]
    }
   ],
   "source": [
    "from tqdm import tqdm \n",
    "import tensorflow as tf \n",
    "from keras.applications.resnet50 import ResNet50\n",
    "from keras.applications.mobilenet_v2 import MobileNetV2\n",
    "from keras.layers import Flatten, Input\n",
    "from keras.models import Model\n",
    "from keras.preprocessing import image\n",
    "from keras.applications.imagenet_utils import preprocess_input\n",
    "import numpy as np\n",
    "from io import BytesIO\n",
    "import time\n",
    "import cv2\n",
    "import tensorflow.keras.layers as layers\n",
    "\n",
    "from tensorflow.keras.models import Model\n",
    "\n",
    "start = time.time()\n",
    "\n",
    "\n",
    "base = MobileNetV2(weights='imagenet', include_top = False) \n",
    "\n",
    "base.trainable = False\n",
    "model = Model(inputs=base.input, outputs=layers.GlobalAveragePooling2D()(base.output))\n",
    "\n",
    "try:\n",
    "    f = cv2.imread('/home/poonam/artivatic/freeTime/Data/12/93147c0c-ba27-4b9b-9953-a7f8d481a3e6.jpg')\n",
    "    \n",
    "    img = image.load_img('/home/poonam/artivatic/freeTime/Data/12/93147c0c-ba27-4b9b-9953-a7f8d481a3e6.jpg', target_size=(224, 224)) \n",
    "    \n",
    "    x = image.img_to_array(img) \n",
    "    x = np.expand_dims(x, axis=0) \n",
    "    x = preprocess_input(x) \n",
    "    features = model.predict(x) \n",
    "    \n",
    "    features_reduce = features.squeeze() \n",
    "    \n",
    "    print(features_reduce.shape)\n",
    "except Exception as err:\n",
    "    print(str(err))"
   ]
  },
  {
   "cell_type": "code",
   "execution_count": 37,
   "metadata": {},
   "outputs": [],
   "source": [
    "reshaped=features_reduce.reshape(-1,1)"
   ]
  },
  {
   "cell_type": "code",
   "execution_count": 38,
   "metadata": {},
   "outputs": [
    {
     "data": {
      "text/plain": [
       "(1280, 1)"
      ]
     },
     "execution_count": 38,
     "metadata": {},
     "output_type": "execute_result"
    }
   ],
   "source": [
    "reshaped.shape"
   ]
  },
  {
   "cell_type": "code",
   "execution_count": 40,
   "metadata": {},
   "outputs": [
    {
     "data": {
      "text/plain": [
       "(1280,)"
      ]
     },
     "execution_count": 40,
     "metadata": {},
     "output_type": "execute_result"
    }
   ],
   "source": [
    "np.squeeze(reshaped).shape"
   ]
  },
  {
   "cell_type": "code",
   "execution_count": null,
   "metadata": {},
   "outputs": [],
   "source": []
  }
 ],
 "metadata": {
  "kernelspec": {
   "display_name": "Python 3",
   "language": "python",
   "name": "python3"
  },
  "language_info": {
   "codemirror_mode": {
    "name": "ipython",
    "version": 3
   },
   "file_extension": ".py",
   "mimetype": "text/x-python",
   "name": "python",
   "nbconvert_exporter": "python",
   "pygments_lexer": "ipython3",
   "version": "3.8.5"
  }
 },
 "nbformat": 4,
 "nbformat_minor": 4
}
